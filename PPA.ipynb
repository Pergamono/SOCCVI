{
 "cells": [
  {
   "cell_type": "markdown",
   "id": "158a49fe",
   "metadata": {},
   "source": [
    "# Proximal Point Algorithm"
   ]
  },
  {
   "cell_type": "markdown",
   "id": "99a93435",
   "metadata": {},
   "source": [
    "The algorithm I'll provide is the Proximal Point Algorithm for solving second-order cone constrained variational inequality problems. The problem can be formulated as follows:"
   ]
  },
  {
   "cell_type": "code",
   "execution_count": 8,
   "id": "c95ceb0e",
   "metadata": {},
   "outputs": [
    {
     "ename": "TypeError",
     "evalue": "unsupported operand type(s) for -: 'float' and 'NoneType'",
     "output_type": "error",
     "traceback": [
      "\u001b[1;31m---------------------------------------------------------------------------\u001b[0m",
      "\u001b[1;31mTypeError\u001b[0m                                 Traceback (most recent call last)",
      "Input \u001b[1;32mIn [8]\u001b[0m, in \u001b[0;36m<cell line: 33>\u001b[1;34m()\u001b[0m\n\u001b[0;32m     30\u001b[0m x0 \u001b[38;5;241m=\u001b[39m np\u001b[38;5;241m.\u001b[39mzeros(n)  \u001b[38;5;66;03m# Provide the appropriate dimension n\u001b[39;00m\n\u001b[0;32m     32\u001b[0m \u001b[38;5;66;03m# Call the algorithm\u001b[39;00m\n\u001b[1;32m---> 33\u001b[0m result \u001b[38;5;241m=\u001b[39m \u001b[43mproximal_point_algorithm\u001b[49m\u001b[43m(\u001b[49m\u001b[43mf\u001b[49m\u001b[43m,\u001b[49m\u001b[43m \u001b[49m\u001b[43mgrad_f\u001b[49m\u001b[43m,\u001b[49m\u001b[43m \u001b[49m\u001b[43mg\u001b[49m\u001b[43m,\u001b[49m\u001b[43m \u001b[49m\u001b[43mprox_g\u001b[49m\u001b[43m,\u001b[49m\u001b[43m \u001b[49m\u001b[43mx0\u001b[49m\u001b[43m)\u001b[49m\n\u001b[0;32m     35\u001b[0m \u001b[38;5;28mprint\u001b[39m(\u001b[38;5;124m\"\u001b[39m\u001b[38;5;124mOptimal solution:\u001b[39m\u001b[38;5;124m\"\u001b[39m, result)\n\u001b[0;32m     36\u001b[0m \u001b[38;5;28mprint\u001b[39m(\u001b[38;5;124m\"\u001b[39m\u001b[38;5;124mOptimal value of f(x*):\u001b[39m\u001b[38;5;124m\"\u001b[39m, f(result))\n",
      "Input \u001b[1;32mIn [8]\u001b[0m, in \u001b[0;36mproximal_point_algorithm\u001b[1;34m(f, grad_f, g, prox_g, x0, max_iter, tol)\u001b[0m\n\u001b[0;32m      5\u001b[0m \u001b[38;5;28;01mfor\u001b[39;00m \u001b[38;5;28miter\u001b[39m \u001b[38;5;129;01min\u001b[39;00m \u001b[38;5;28mrange\u001b[39m(max_iter):\n\u001b[0;32m      6\u001b[0m     x_prev \u001b[38;5;241m=\u001b[39m x\n\u001b[1;32m----> 7\u001b[0m     x \u001b[38;5;241m=\u001b[39m prox_g(\u001b[43mx\u001b[49m\u001b[43m \u001b[49m\u001b[38;5;241;43m-\u001b[39;49m\u001b[43m \u001b[49m\u001b[43mgrad_f\u001b[49m\u001b[43m(\u001b[49m\u001b[43mx\u001b[49m\u001b[43m)\u001b[49m)\n\u001b[0;32m      8\u001b[0m     \u001b[38;5;28;01mif\u001b[39;00m np\u001b[38;5;241m.\u001b[39mlinalg\u001b[38;5;241m.\u001b[39mnorm(x \u001b[38;5;241m-\u001b[39m x_prev) \u001b[38;5;241m<\u001b[39m tol:\n\u001b[0;32m      9\u001b[0m         \u001b[38;5;28;01mbreak\u001b[39;00m\n",
      "\u001b[1;31mTypeError\u001b[0m: unsupported operand type(s) for -: 'float' and 'NoneType'"
     ]
    }
   ],
   "source": [
    "import numpy as np\n",
    "\n",
    "def proximal_point_algorithm(f, grad_f, g, prox_g, x0, max_iter=1000, tol=1e-6):\n",
    "    x = x0\n",
    "    for iter in range(max_iter):\n",
    "        x_prev = x\n",
    "        x = prox_g(x - grad_f(x))\n",
    "        if np.linalg.norm(x - x_prev) < tol:\n",
    "            break\n",
    "    return x\n",
    "\n",
    "# Define your functions f, grad_f, g, and prox_g\n",
    "def f(x):\n",
    "    # Define your function f\n",
    "    pass\n",
    "\n",
    "def grad_f(x):\n",
    "    # Define the gradient of f\n",
    "    pass\n",
    "\n",
    "def g(x):\n",
    "    # Define your function g\n",
    "    pass\n",
    "\n",
    "def prox_g(x):\n",
    "    # Define the proximal operator of g\n",
    "    pass\n",
    "\n",
    "# Initial guess\n",
    "x0 = np.zeros(n)  # Provide the appropriate dimension n\n",
    "\n",
    "# Call the algorithm\n",
    "result = proximal_point_algorithm(f, grad_f, g, prox_g, x0)\n",
    "\n",
    "print(\"Optimal solution:\", result)\n",
    "print(\"Optimal value of f(x*):\", f(result))"
   ]
  },
  {
   "cell_type": "code",
   "execution_count": null,
   "id": "69f4f9eb",
   "metadata": {},
   "outputs": [],
   "source": []
  }
 ],
 "metadata": {
  "kernelspec": {
   "display_name": "Python 3 (ipykernel)",
   "language": "python",
   "name": "python3"
  },
  "language_info": {
   "codemirror_mode": {
    "name": "ipython",
    "version": 3
   },
   "file_extension": ".py",
   "mimetype": "text/x-python",
   "name": "python",
   "nbconvert_exporter": "python",
   "pygments_lexer": "ipython3",
   "version": "3.9.12"
  }
 },
 "nbformat": 4,
 "nbformat_minor": 5
}
